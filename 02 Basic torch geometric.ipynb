{
 "cells": [
  {
   "cell_type": "code",
   "execution_count": 1,
   "id": "f854edda-1eeb-4826-a03d-a1b79ef8ba18",
   "metadata": {},
   "outputs": [],
   "source": [
    "import torch\n",
    "from torch_geometric.datasets import QM9\n",
    "from torch_geometric.loader import DataLoader\n",
    "from torch_geometric.nn import NNConv, global_add_pool\n",
    "\n",
    "import torch.nn.functional as F\n",
    "import torch.nn as nn\n",
    "from torch.utils.data import random_split\n",
    " \n",
    "from tqdm.notebook import tqdm\n",
    "\n",
    "ip = get_ipython()\n",
    "ip.sphinxify_docstring = True\n",
    "ip.enable_html_pager = True"
   ]
  },
  {
   "cell_type": "code",
   "execution_count": 2,
   "id": "aa8b54fa-707c-4edb-8213-76ae76d8a06e",
   "metadata": {},
   "outputs": [],
   "source": [
    "dataset = QM9(root='/tmp/QM9')"
   ]
  },
  {
   "cell_type": "markdown",
   "id": "c4530a6f-5aeb-4df2-8c10-d3054201dbc2",
   "metadata": {},
   "source": [
    "PyTorch Geometric requires certain attributes to be present in the dataset. For example\n",
    "- `x` should contain node features\n",
    "- 'edge_attr` edge freatures\n",
    "- `edge_index` edge list\n",
    "- `y` labels\n",
    "\n",
    "The QM9 dataset also has\n",
    "- `pos` the 3D position of each atom\n",
    "- `z` the atomic number of each atom\n",
    "\n",
    "We're going to train on QM9 to predict isotropic polarization."
   ]
  },
  {
   "cell_type": "code",
   "execution_count": 3,
   "id": "d568b1a7-f752-4327-bc70-1582b15b94fb",
   "metadata": {},
   "outputs": [],
   "source": [
    "import networkx as nx"
   ]
  },
  {
   "cell_type": "code",
   "execution_count": 4,
   "id": "aa64d83f-edb7-400d-94b5-87788e7dfcca",
   "metadata": {},
   "outputs": [],
   "source": [
    "G = nx.from_edgelist(dataset[42][\"edge_index\"].T.numpy())"
   ]
  },
  {
   "cell_type": "code",
   "execution_count": 5,
   "id": "b6f7abf3-0e4e-43f5-8d6e-4a7f50fab1d8",
   "metadata": {},
   "outputs": [
    {
     "data": {
      "text/plain": [
       "Data(x=[12, 11], edge_index=[2, 24], edge_attr=[24, 4], y=[1, 19], pos=[12, 3], idx=[1], name='gdb_43', z=[12])"
      ]
     },
     "execution_count": 5,
     "metadata": {},
     "output_type": "execute_result"
    }
   ],
   "source": [
    "dataset[42]"
   ]
  },
  {
   "cell_type": "code",
   "execution_count": 6,
   "id": "2c1b5344-4d01-464e-ab22-269503528e41",
   "metadata": {},
   "outputs": [
    {
     "data": {
      "text/plain": [
       "array([[ 0,  0,  0,  0,  1,  1,  1,  1,  2,  2,  2,  2,  3,  3,  3,  3,\n",
       "         4,  5,  6,  7,  8,  9, 10, 11],\n",
       "       [ 1,  4,  5,  6,  0,  2,  3,  7,  1,  3,  8,  9,  1,  2, 10, 11,\n",
       "         0,  0,  0,  1,  2,  2,  3,  3]])"
      ]
     },
     "execution_count": 6,
     "metadata": {},
     "output_type": "execute_result"
    }
   ],
   "source": [
    "dataset[42].edge_index.numpy()"
   ]
  },
  {
   "cell_type": "code",
   "execution_count": 7,
   "id": "261ff96e-edae-49f5-a8c2-a5d303f3f2e7",
   "metadata": {},
   "outputs": [],
   "source": [
    "sizes = dataset[42][\"z\"].numpy()"
   ]
  },
  {
   "cell_type": "code",
   "execution_count": 8,
   "id": "66e595c3-8b4e-4b31-8466-4d269bac0a7e",
   "metadata": {},
   "outputs": [
    {
     "data": {
      "image/png": "[encoded data removed]",
      "text/plain": [
       "<Figure size 640x480 with 1 Axes>"
      ]
     },
     "metadata": {},
     "output_type": "display_data"
    }
   ],
   "source": [
    "nx.draw(G,node_size=100*sizes,label=sizes)"
   ]
  },
  {
   "cell_type": "code",
   "execution_count": 9,
   "id": "efb25536-72a4-45e3-a136-008b4084fd08",
   "metadata": {},
   "outputs": [],
   "source": [
    "class GCN(torch.nn.Module):\n",
    "    def __init__(self,num_node_features,num_edge_features):\n",
    "        super().__init__()\n",
    "        \n",
    "        convC1 = nn.Sequential(\n",
    "            nn.Linear(num_edge_features,32),\n",
    "            nn.SiLU(),\n",
    "            nn.Linear(32,num_node_features*num_node_features)\n",
    "        ) # shape must be num_edge_features -> in_channels*out_channels\n",
    "        \n",
    "        convC2 = nn.Sequential(\n",
    "            nn.Linear(num_edge_features,32),\n",
    "            nn.SiLU(),\n",
    "            nn.Linear(32,num_node_features*num_node_features)\n",
    "        )\n",
    "        \n",
    "        self.convC1 = NNConv(num_node_features,num_node_features,convC1) # in_channels, out_channels, nn.Module\n",
    "        self.convC2 = NNConv(num_node_features,num_node_features,convC2)\n",
    "        \n",
    "        self.fc1 = nn.Linear(num_node_features,32)\n",
    "        self.out = nn.Linear(32,1)\n",
    "        \n",
    "\n",
    "    def forward(self, data):\n",
    "        batch, x, edge_index, edge_attr = \\\n",
    "            data.batch, data.x, data.edge_index, data.edge_attr\n",
    "\n",
    "        # convolution layers with skip connection\n",
    "        x = F.relu(x - self.convC1(x, edge_index, edge_attr))\n",
    "        x = F.relu(x - self.convC2(x, edge_index, edge_attr))\n",
    "        \n",
    "        # x = F.dropout(x, training=self.training)\n",
    "        x = global_add_pool(x,batch)\n",
    "        x = F.relu(self.fc1(x))\n",
    "\n",
    "        return self.out(x)"
   ]
  },
  {
   "cell_type": "code",
   "execution_count": 10,
   "id": "c7f1e185-079f-4cac-a9af-2585fbdf2dab",
   "metadata": {},
   "outputs": [],
   "source": [
    "train_set, valid_set, test_set = random_split(dataset,[110000, 10831, 10000])\n",
    "\n",
    "trainloader = DataLoader(train_set, batch_size=32, shuffle=True)\n",
    "validloader = DataLoader(valid_set, batch_size=32, shuffle=True)\n",
    "testloader  = DataLoader(test_set, batch_size=32, shuffle=True)"
   ]
  },
  {
   "cell_type": "code",
   "execution_count": 11,
   "id": "638fc888-2c9d-4ce9-a4d1-053ce27df6f9",
   "metadata": {},
   "outputs": [],
   "source": [
    "qm9_node_feats, qm9_edge_feats = 11, 4\n",
    "net = GCN(qm9_node_feats,qm9_edge_feats)\n",
    "\n",
    "optimizer = torch.optim.Adam(net.parameters(), lr=0.01)\n",
    "epochs = 1\n",
    "target_idx = 1 # index position of the polarizability label"
   ]
  },
  {
   "cell_type": "code",
   "execution_count": 12,
   "id": "94f80376-b07a-468e-90b3-0b7f0fa3d9ad",
   "metadata": {},
   "outputs": [
    {
     "data": {
      "application/vnd.jupyter.widget-view+json": {
       "model_id": "721119dd16184a99b8edbcf6cc21b47e",
       "version_major": 2,
       "version_minor": 0
      },
      "text/plain": [
       "  0%|          | 0/3438 [00:00<?, ?it/s]"
      ]
     },
     "metadata": {},
     "output_type": "display_data"
    },
    {
     "name": "stdout",
     "output_type": "stream",
     "text": [
      "Epochs: 0 | epoch avg. loss: 0.48 | validation avg. loss: 0.09\n"
     ]
    }
   ],
   "source": [
    "for total_epochs in range(epochs):\n",
    "    epoch_loss = 0\n",
    "    total_graphs = 0\n",
    "    net.train()\n",
    "    for batch in tqdm(trainloader):\n",
    "        optimizer.zero_grad()\n",
    "        output = net(batch)\n",
    "        loss = F.mse_loss(output,batch.y[:, target_idx].unsqueeze(1))\n",
    "        loss.backward()\n",
    "        epoch_loss += loss.item()\n",
    "        total_graphs += batch.num_graphs\n",
    "        optimizer.step()\n",
    "    train_avg_loss = epoch_loss / total_graphs\n",
    "    val_loss = 0\n",
    "    total_graphs = 0\n",
    "    \n",
    "    net.eval()\n",
    "    for batch in validloader:\n",
    "        output = net(batch)\n",
    "        loss = F.mse_loss(output,batch.y[:, target_idx].unsqueeze(1))\n",
    "        val_loss += loss.item()\n",
    "        total_graphs += batch.num_graphs\n",
    "        \n",
    "    val_avg_loss = val_loss / total_graphs\n",
    "    \n",
    "    print(f\"Epochs: {total_epochs} | \"\n",
    "    f\"epoch avg. loss: {train_avg_loss:.2f} | \"\n",
    "    f\"validation avg. loss: {val_avg_loss:.2f}\")"
   ]
  },
  {
   "cell_type": "code",
   "execution_count": 13,
   "id": "f5b44f81-2b15-4230-bd6f-b3c048e271f5",
   "metadata": {},
   "outputs": [
    {
     "data": {
      "application/vnd.jupyter.widget-view+json": {
       "model_id": "71333d92e14545f6a42ca8aa81831ce0",
       "version_major": 2,
       "version_minor": 0
      },
      "text/plain": [
       "  0%|          | 0/313 [00:00<?, ?it/s]"
      ]
     },
     "metadata": {},
     "output_type": "display_data"
    }
   ],
   "source": [
    "import numpy as np\n",
    "net.eval()\n",
    "predictions = []\n",
    "real = []\n",
    "for batch in tqdm(testloader):\n",
    "    output = net(batch)\n",
    "    predictions.append(output.detach().cpu().numpy())\n",
    "    real.append(batch.y[:,target_idx] .detach().cpu().numpy())\n",
    "real = np.concatenate(real)\n",
    "predictions = np.concatenate(predictions)"
   ]
  },
  {
   "cell_type": "code",
   "execution_count": 14,
   "id": "3484493a-f5f5-41ae-9587-223ff03eba72",
   "metadata": {},
   "outputs": [
    {
     "data": {
      "text/plain": [
       "Text(0, 0.5, 'Predicted isotropic polarizability')"
      ]
     },
     "execution_count": 14,
     "metadata": {},
     "output_type": "execute_result"
    },
    {
     "data": {
      "image/png": "[encoded data removed]",
      "text/plain": [
       "<Figure size 640x480 with 1 Axes>"
      ]
     },
     "metadata": {},
     "output_type": "display_data"
    }
   ],
   "source": [
    "import matplotlib.pyplot as plt\n",
    "plt.style.use(\"ggplot\")\n",
    "plt.scatter(real[:500], predictions[:500])\n",
    "plt.xlabel('Isotropic polarizability')\n",
    "plt.ylabel('Predicted isotropic polarizability')"
   ]
  },
  {
   "cell_type": "code",
   "execution_count": null,
   "id": "624a6056-d605-4ac4-aa4e-c6f8982e2489",
   "metadata": {},
   "outputs": [],
   "source": []
  }
 ],
 "metadata": {
  "kernelspec": {
   "display_name": "Machine Learning",
   "language": "python",
   "name": "machine-learning"
  },
  "language_info": {
   "codemirror_mode": {
    "name": "ipython",
    "version": 3
   },
   "file_extension": ".py",
   "mimetype": "text/x-python",
   "name": "python",
   "nbconvert_exporter": "python",
   "pygments_lexer": "ipython3",
   "version": "3.10.9"
  }
 },
 "nbformat": 4,
 "nbformat_minor": 5
}
