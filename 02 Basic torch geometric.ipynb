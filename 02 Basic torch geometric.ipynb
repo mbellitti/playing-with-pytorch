{
 "cells": [
  {
   "cell_type": "code",
   "execution_count": 59,
   "id": "f854edda-1eeb-4826-a03d-a1b79ef8ba18",
   "metadata": {},
   "outputs": [],
   "source": [
    "import torch\n",
    "from torch_geometric.datasets import QM9\n",
    "from torch_geometric.loader import DataLoader\n",
    "from torch_geometric.nn import NNConv, global_add_pool\n",
    "\n",
    "import torch.nn.functional as F\n",
    "import torch.nn as nn\n",
    "from torch.utils.data import random_split\n",
    " \n",
    "from tqdm.notebook import tqdm"
   ]
  },
  {
   "cell_type": "code",
   "execution_count": 60,
   "id": "aa8b54fa-707c-4edb-8213-76ae76d8a06e",
   "metadata": {},
   "outputs": [],
   "source": [
    "dataset = QM9(root='/tmp/Cora')"
   ]
  },
  {
   "cell_type": "markdown",
   "id": "c4530a6f-5aeb-4df2-8c10-d3054201dbc2",
   "metadata": {},
   "source": [
    "PyTorch Geometric requires certain attributes to be present in the dataset. For example\n",
    "- `x` should contain node features\n",
    "- 'edge_attr` edge freatures\n",
    "- `edge_index` edge list\n",
    "- `y` labels\n",
    "\n",
    "The QM9 dataset also has\n",
    "- `pos` the 3D position of each atom\n",
    "- `z` the atomic number of each atom\n",
    "\n",
    "We're going to train on QM9 to predict isotropic polarization."
   ]
  },
  {
   "cell_type": "code",
   "execution_count": 61,
   "id": "efb25536-72a4-45e3-a136-008b4084fd08",
   "metadata": {},
   "outputs": [],
   "source": [
    "class GCN(torch.nn.Module):\n",
    "    def __init__(self,num_node_features,num_edge_features):\n",
    "        super().__init__()\n",
    "        \n",
    "        conv1_net = nn.Sequential(\n",
    "            nn.Linear(num_edge_features,32),\n",
    "            nn.ReLU(),\n",
    "            nn.Linear(32,num_node_features*32)\n",
    "        )\n",
    "        \n",
    "        conv2_net = nn.Sequential(\n",
    "            nn.Linear(num_edge_features,32),\n",
    "            nn.ReLU(),\n",
    "            nn.Linear(32,32*16)\n",
    "        )\n",
    "        \n",
    "        self.conv1 = NNConv(num_node_features,32,conv1_net)\n",
    "        self.conv2 = NNConv(32,16,conv2_net)\n",
    "        self.fc_1 = nn.Linear(16,32)\n",
    "        self.out = nn.Linear(32,1)\n",
    "        \n",
    "\n",
    "    def forward(self, data):\n",
    "        batch, x, edge_index, edge_attr = \\\n",
    "            data.batch, data.x, data.edge_index, data.edge_attr\n",
    "\n",
    "        x = F.relu(self.conv1(x, edge_index, edge_attr))\n",
    "        x = F.relu(self.conv2(x, edge_index, edge_attr))\n",
    "        # x = F.dropout(x, training=self.training)\n",
    "        x = global_add_pool(x,batch)\n",
    "        x = F.relu(self.fc_1(x))\n",
    "\n",
    "        return self.out(x)"
   ]
  },
  {
   "cell_type": "code",
   "execution_count": 62,
   "id": "c7f1e185-079f-4cac-a9af-2585fbdf2dab",
   "metadata": {},
   "outputs": [],
   "source": [
    "train_set, valid_set, test_set = random_split(dataset,[110000, 10831, 10000])\n",
    "\n",
    "trainloader = DataLoader(train_set, batch_size=32, shuffle=True)\n",
    "validloader = DataLoader(valid_set, batch_size=32, shuffle=True)\n",
    "testloader  = DataLoader(test_set, batch_size=32, shuffle=True)"
   ]
  },
  {
   "cell_type": "code",
   "execution_count": 63,
   "id": "638fc888-2c9d-4ce9-a4d1-053ce27df6f9",
   "metadata": {},
   "outputs": [],
   "source": [
    "qm9_node_feats, qm9_edge_feats = 11, 4\n",
    "net = GCN(qm9_node_feats,qm9_edge_feats)\n",
    "\n",
    "optimizer = torch.optim.Adam(net.parameters(), lr=0.01)\n",
    "epochs = 4\n",
    "target_idx = 1 # index position of the polarizability label"
   ]
  },
  {
   "cell_type": "code",
   "execution_count": 65,
   "id": "94f80376-b07a-468e-90b3-0b7f0fa3d9ad",
   "metadata": {},
   "outputs": [
    {
     "data": {
      "application/vnd.jupyter.widget-view+json": {
       "model_id": "7d6c7419732d4c2fa2d2cb0d0813571d",
       "version_major": 2,
       "version_minor": 0
      },
      "text/plain": [
       "  0%|          | 0/3438 [00:00<?, ?it/s]"
      ]
     },
     "metadata": {},
     "output_type": "display_data"
    },
    {
     "name": "stdout",
     "output_type": "stream",
     "text": [
      "Epochs: 0 | epoch avg. loss: 0.13 | validation avg. loss: 0.07\n"
     ]
    },
    {
     "data": {
      "application/vnd.jupyter.widget-view+json": {
       "model_id": "81d6c63ddc434d82b7092a0174ced4ed",
       "version_major": 2,
       "version_minor": 0
      },
      "text/plain": [
       "  0%|          | 0/3438 [00:00<?, ?it/s]"
      ]
     },
     "metadata": {},
     "output_type": "display_data"
    },
    {
     "name": "stdout",
     "output_type": "stream",
     "text": [
      "Epochs: 1 | epoch avg. loss: 0.11 | validation avg. loss: 0.09\n"
     ]
    },
    {
     "data": {
      "application/vnd.jupyter.widget-view+json": {
       "model_id": "1b921d76e3b94728a2f5c90c6878ea1b",
       "version_major": 2,
       "version_minor": 0
      },
      "text/plain": [
       "  0%|          | 0/3438 [00:00<?, ?it/s]"
      ]
     },
     "metadata": {},
     "output_type": "display_data"
    },
    {
     "name": "stdout",
     "output_type": "stream",
     "text": [
      "Epochs: 2 | epoch avg. loss: 0.10 | validation avg. loss: 0.06\n"
     ]
    },
    {
     "data": {
      "application/vnd.jupyter.widget-view+json": {
       "model_id": "81f28cb171294e41912d6ab68b66599a",
       "version_major": 2,
       "version_minor": 0
      },
      "text/plain": [
       "  0%|          | 0/3438 [00:00<?, ?it/s]"
      ]
     },
     "metadata": {},
     "output_type": "display_data"
    },
    {
     "name": "stdout",
     "output_type": "stream",
     "text": [
      "Epochs: 3 | epoch avg. loss: 0.09 | validation avg. loss: 0.06\n"
     ]
    }
   ],
   "source": [
    "for total_epochs in range(epochs):\n",
    "    epoch_loss = 0\n",
    "    total_graphs = 0\n",
    "    net.train()\n",
    "    for batch in tqdm(trainloader):\n",
    "        optimizer.zero_grad()\n",
    "        output = net(batch)\n",
    "        loss = F.mse_loss(output,batch.y[:, target_idx].unsqueeze(1))\n",
    "        loss.backward()\n",
    "        epoch_loss += loss.item()\n",
    "        total_graphs += batch.num_graphs\n",
    "        optimizer.step()\n",
    "    train_avg_loss = epoch_loss / total_graphs\n",
    "    val_loss = 0\n",
    "    total_graphs = 0\n",
    "    \n",
    "    net.eval()\n",
    "    for batch in validloader:\n",
    "        output = net(batch)\n",
    "        loss = F.mse_loss(output,batch.y[:, target_idx].unsqueeze(1))\n",
    "        val_loss += loss.item()\n",
    "        total_graphs += batch.num_graphs\n",
    "        \n",
    "    val_avg_loss = val_loss / total_graphs\n",
    "    \n",
    "    print(f\"Epochs: {total_epochs} | \"\n",
    "    f\"epoch avg. loss: {train_avg_loss:.2f} | \"\n",
    "    f\"validation avg. loss: {val_avg_loss:.2f}\")"
   ]
  },
  {
   "cell_type": "code",
   "execution_count": 69,
   "id": "f5b44f81-2b15-4230-bd6f-b3c048e271f5",
   "metadata": {},
   "outputs": [
    {
     "data": {
      "application/vnd.jupyter.widget-view+json": {
       "model_id": "a42efbd740b7457fa0ba8ebf1afa08c1",
       "version_major": 2,
       "version_minor": 0
      },
      "text/plain": [
       "  0%|          | 0/313 [00:00<?, ?it/s]"
      ]
     },
     "metadata": {},
     "output_type": "display_data"
    }
   ],
   "source": [
    "import numpy as np\n",
    "net.eval()\n",
    "predictions = []\n",
    "real = []\n",
    "for batch in tqdm(testloader):\n",
    "    output = net(batch)\n",
    "    predictions.append(output.detach().cpu().numpy())\n",
    "    real.append(batch.y[:,target_idx] .detach().cpu().numpy())\n",
    "real = np.concatenate(real)\n",
    "predictions = np.concatenate(predictions)"
   ]
  },
  {
   "cell_type": "code",
   "execution_count": 70,
   "id": "3484493a-f5f5-41ae-9587-223ff03eba72",
   "metadata": {},
   "outputs": [
    {
     "data": {
      "text/plain": [
       "Text(0, 0.5, 'Predicted isotropic polarizability')"
      ]
     },
     "execution_count": 70,
     "metadata": {},
     "output_type": "execute_result"
    },
    {
     "data": {
      "image/png": "[encoded data removed]",
      "text/plain": [
       "<Figure size 432x288 with 1 Axes>"
      ]
     },
     "metadata": {
      "needs_background": "light"
     },
     "output_type": "display_data"
    }
   ],
   "source": [
    "import matplotlib.pyplot as plt\n",
    "plt.style.use(\"ggplot\")\n",
    "plt.scatter(real[:500], predictions[:500])\n",
    "plt.xlabel('Isotropic polarizability')\n",
    "plt.ylabel('Predicted isotropic polarizability')"
   ]
  },
  {
   "cell_type": "code",
   "execution_count": null,
   "id": "2c0dae65-dcc8-4225-a273-066d38322279",
   "metadata": {},
   "outputs": [],
   "source": []
  }
 ],
 "metadata": {
  "kernelspec": {
   "display_name": "Machine Learning",
   "language": "python",
   "name": "machine-learning"
  },
  "language_info": {
   "codemirror_mode": {
    "name": "ipython",
    "version": 3
   },
   "file_extension": ".py",
   "mimetype": "text/x-python",
   "name": "python",
   "nbconvert_exporter": "python",
   "pygments_lexer": "ipython3",
   "version": "3.10.9"
  }
 },
 "nbformat": 4,
 "nbformat_minor": 5
}
