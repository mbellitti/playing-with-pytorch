{
 "cells": [
  {
   "cell_type": "code",
   "execution_count": 16,
   "id": "f854edda-1eeb-4826-a03d-a1b79ef8ba18",
   "metadata": {},
   "outputs": [],
   "source": [
    "import torch\n",
    "from torch_geometric.datasets import QM9\n",
    "from torch_geometric.loader import DataLoader\n",
    "from torch_geometric.nn import NNConv, global_add_pool\n",
    "\n",
    "from pytorch_lightning.loggers import WandbLogger\n",
    "\n",
    "import torch.nn.functional as F\n",
    "import torch.nn as nn\n",
    "from torch.utils.data import random_split\n",
    "import pytorch_lightning as pl\n",
    " \n",
    "from tqdm.notebook import tqdm\n",
    "\n",
    "ip = get_ipython()\n",
    "ip.sphinxify_docstring = True\n",
    "ip.enable_html_pager = True"
   ]
  },
  {
   "cell_type": "code",
   "execution_count": 3,
   "id": "aa8b54fa-707c-4edb-8213-76ae76d8a06e",
   "metadata": {},
   "outputs": [],
   "source": [
    "dataset = QM9(root='/tmp/QM9')"
   ]
  },
  {
   "cell_type": "markdown",
   "id": "c4530a6f-5aeb-4df2-8c10-d3054201dbc2",
   "metadata": {},
   "source": [
    "PyTorch Geometric requires certain attributes to be present in the dataset. For example\n",
    "- `x` should contain node features\n",
    "- 'edge_attr` edge freatures\n",
    "- `edge_index` edge list\n",
    "- `y` labels\n",
    "\n",
    "The QM9 dataset also has\n",
    "- `pos` the 3D position of each atom\n",
    "- `z` the atomic number of each atom\n",
    "\n",
    "We're going to train on QM9 to predict isotropic polarization."
   ]
  },
  {
   "cell_type": "code",
   "execution_count": 12,
   "id": "efb25536-72a4-45e3-a136-008b4084fd08",
   "metadata": {},
   "outputs": [],
   "source": [
    "class GCN(pl.LightningModule):\n",
    "    def __init__(self,num_node_features,num_edge_features):\n",
    "        super().__init__()\n",
    "        \n",
    "        convC1 = nn.Sequential(\n",
    "            nn.Linear(num_edge_features,32),\n",
    "            nn.SiLU(),\n",
    "            nn.Linear(32,num_node_features*num_node_features)\n",
    "        ) # shape must be num_edge_features -> in_channels*out_channels\n",
    "        \n",
    "        convC2 = nn.Sequential(\n",
    "            nn.Linear(num_edge_features,32),\n",
    "            nn.SiLU(),\n",
    "            nn.Linear(32,num_node_features*num_node_features)\n",
    "        )\n",
    "        \n",
    "        self.convC1 = NNConv(num_node_features,num_node_features,convC1) # in_channels, out_channels, nn.Module\n",
    "        self.convC2 = NNConv(num_node_features,num_node_features,convC2)\n",
    "        \n",
    "        self.fc1 = nn.Linear(num_node_features,32)\n",
    "        self.out = nn.Linear(32,1)\n",
    "        \n",
    "\n",
    "    def forward(self, data):\n",
    "        batch, x, edge_index, edge_attr = \\\n",
    "            data.batch, data.x, data.edge_index, data.edge_attr\n",
    "\n",
    "        # convolution layers with skip connection\n",
    "        x = F.relu(x - self.convC1(x, edge_index, edge_attr))\n",
    "        x = F.relu(x - self.convC2(x, edge_index, edge_attr))\n",
    "        \n",
    "        # x = F.dropout(x, training=self.training)\n",
    "        x = global_add_pool(x,batch)\n",
    "        x = F.relu(self.fc1(x))\n",
    "\n",
    "        return self.out(x)\n",
    "    \n",
    "    def training_step(self,batch,batch_idx):\n",
    "        y_hat = self(batch)\n",
    "        loss = F.mse_loss(y_hat,batch.y[:, target_idx].unsqueeze(1)) \n",
    "        \n",
    "        # self.log(\"train_loss\", loss, on_step=True, on_epoch=True, prog_bar=True, logger=True, batch_size=len(batch))\n",
    "        \n",
    "        return loss\n",
    "    \n",
    "    def validation_step(self,batch,batch_idx):\n",
    "        y_hat = self(batch)\n",
    "        loss = F.mse_loss(y_hat,batch.y[:, target_idx].unsqueeze(1)) \n",
    "        \n",
    "        # self.log(\"val_loss\",loss,batch_size=len(batch))\n",
    "        \n",
    "        return loss\n",
    "    \n",
    "    def configure_optimizers(self):\n",
    "        return torch.optim.Adam(self.parameters(), lr=0.01) "
   ]
  },
  {
   "cell_type": "code",
   "execution_count": 13,
   "id": "c7f1e185-079f-4cac-a9af-2585fbdf2dab",
   "metadata": {},
   "outputs": [],
   "source": [
    "train_set, valid_set, test_set = random_split(dataset,[110000, 10831, 10000])\n",
    "\n",
    "train_loader = DataLoader(train_set, batch_size=32, shuffle=True, num_workers=12)\n",
    "valid_loader = DataLoader(valid_set, batch_size=32, shuffle=False,num_workers=12)\n",
    "test_loader  = DataLoader(test_set, batch_size=32, shuffle=False,num_workers=12)"
   ]
  },
  {
   "cell_type": "code",
   "execution_count": 14,
   "id": "638fc888-2c9d-4ce9-a4d1-053ce27df6f9",
   "metadata": {},
   "outputs": [],
   "source": [
    "qm9_node_feats, qm9_edge_feats = 11, 4\n",
    "model = GCN(qm9_node_feats,qm9_edge_feats)\n",
    "\n",
    "target_idx = 1 # index position of the polarizability label"
   ]
  },
  {
   "cell_type": "code",
   "execution_count": 20,
   "id": "45cf036f-ba74-4886-af9a-541b5cb54808",
   "metadata": {
    "tags": []
   },
   "outputs": [],
   "source": [
    "# wandblogger = WandbLogger()"
   ]
  },
  {
   "cell_type": "code",
   "execution_count": 19,
   "id": "c1f97cd1-eba4-4881-9547-ef6d88b006e2",
   "metadata": {},
   "outputs": [
    {
     "name": "stderr",
     "output_type": "stream",
     "text": [
      "GPU available: True (cuda), used: True\n",
      "TPU available: False, using: 0 TPU cores\n",
      "IPU available: False, using: 0 IPUs\n",
      "HPU available: False, using: 0 HPUs\n",
      "LOCAL_RANK: 0 - CUDA_VISIBLE_DEVICES: [0]\n",
      "\n",
      "  | Name   | Type   | Params\n",
      "----------------------------------\n",
      "0 | convC1 | NNConv | 4.3 K \n",
      "1 | convC2 | NNConv | 4.3 K \n",
      "2 | fc1    | Linear | 384   \n",
      "3 | out    | Linear | 33    \n",
      "----------------------------------\n",
      "9.0 K     Trainable params\n",
      "0         Non-trainable params\n",
      "9.0 K     Total params\n",
      "0.036     Total estimated model params size (MB)\n"
     ]
    },
    {
     "data": {
      "application/vnd.jupyter.widget-view+json": {
       "model_id": "",
       "version_major": 2,
       "version_minor": 0
      },
      "text/plain": [
       "Sanity Checking: 0it [00:00, ?it/s]"
      ]
     },
     "metadata": {},
     "output_type": "display_data"
    },
    {
     "data": {
      "application/vnd.jupyter.widget-view+json": {
       "model_id": "cda85d74b1f043f7b21c69aabc83d1ae",
       "version_major": 2,
       "version_minor": 0
      },
      "text/plain": [
       "Training: 0it [00:00, ?it/s]"
      ]
     },
     "metadata": {},
     "output_type": "display_data"
    },
    {
     "data": {
      "application/vnd.jupyter.widget-view+json": {
       "model_id": "",
       "version_major": 2,
       "version_minor": 0
      },
      "text/plain": [
       "Validation: 0it [00:00, ?it/s]"
      ]
     },
     "metadata": {},
     "output_type": "display_data"
    },
    {
     "data": {
      "application/vnd.jupyter.widget-view+json": {
       "model_id": "",
       "version_major": 2,
       "version_minor": 0
      },
      "text/plain": [
       "Validation: 0it [00:00, ?it/s]"
      ]
     },
     "metadata": {},
     "output_type": "display_data"
    },
    {
     "data": {
      "application/vnd.jupyter.widget-view+json": {
       "model_id": "",
       "version_major": 2,
       "version_minor": 0
      },
      "text/plain": [
       "Validation: 0it [00:00, ?it/s]"
      ]
     },
     "metadata": {},
     "output_type": "display_data"
    },
    {
     "data": {
      "application/vnd.jupyter.widget-view+json": {
       "model_id": "",
       "version_major": 2,
       "version_minor": 0
      },
      "text/plain": [
       "Validation: 0it [00:00, ?it/s]"
      ]
     },
     "metadata": {},
     "output_type": "display_data"
    },
    {
     "data": {
      "application/vnd.jupyter.widget-view+json": {
       "model_id": "",
       "version_major": 2,
       "version_minor": 0
      },
      "text/plain": [
       "Validation: 0it [00:00, ?it/s]"
      ]
     },
     "metadata": {},
     "output_type": "display_data"
    },
    {
     "name": "stderr",
     "output_type": "stream",
     "text": [
      "`Trainer.fit` stopped: `max_epochs=5` reached.\n"
     ]
    }
   ],
   "source": [
    "epochs = 5\n",
    "\n",
    "trainer = pl.Trainer(accelerator=\"gpu\",\n",
    "                     max_epochs=epochs,\n",
    "                    )\n",
    "                    # logger=wandblogger)\n",
    "\n",
    "torch.set_float32_matmul_precision('medium')\n",
    "\n",
    "trainer.fit(model, train_dataloaders=train_loader,val_dataloaders=valid_loader)"
   ]
  },
  {
   "cell_type": "code",
   "execution_count": null,
   "id": "7867740d-ecdd-45b3-9023-280211203e90",
   "metadata": {},
   "outputs": [],
   "source": []
  }
 ],
 "metadata": {
  "kernelspec": {
   "display_name": "Machine Learning",
   "language": "python",
   "name": "machine-learning"
  },
  "language_info": {
   "codemirror_mode": {
    "name": "ipython",
    "version": 3
   },
   "file_extension": ".py",
   "mimetype": "text/x-python",
   "name": "python",
   "nbconvert_exporter": "python",
   "pygments_lexer": "ipython3",
   "version": "3.10.9"
  }
 },
 "nbformat": 4,
 "nbformat_minor": 5
}
